{
 "cells": [
  {
   "cell_type": "code",
   "execution_count": 6,
   "id": "eceb2d2c",
   "metadata": {},
   "outputs": [
    {
     "name": "stdout",
     "output_type": "stream",
     "text": [
      "Hello World\n"
     ]
    }
   ],
   "source": [
    "print(\"Hello World\")"
   ]
  },
  {
   "cell_type": "code",
   "execution_count": 5,
   "id": "f4becece",
   "metadata": {},
   "outputs": [
    {
     "name": "stdout",
     "output_type": "stream",
     "text": [
      "Collecting deltalake\n",
      "  Using cached deltalake-1.1.2-cp39-abi3-win_amd64.whl.metadata (4.7 kB)\n",
      "Collecting arro3-core>=0.5.0 (from deltalake)\n",
      "  Using cached arro3_core-0.5.1-cp312-cp312-win_amd64.whl.metadata (954 bytes)\n",
      "Collecting deprecated>=1.2.18 (from deltalake)\n",
      "  Using cached Deprecated-1.2.18-py2.py3-none-any.whl.metadata (5.7 kB)\n",
      "Requirement already satisfied: wrapt<2,>=1.10 in c:\\users\\pichau\\appdata\\local\\programs\\python\\python312\\lib\\site-packages (from deprecated>=1.2.18->deltalake) (1.17.0)\n",
      "Downloading deltalake-1.1.2-cp39-abi3-win_amd64.whl (42.8 MB)\n",
      "   ---------------------------------------- 0.0/42.8 MB ? eta -:--:--\n",
      "   ---------------------------------------- 0.5/42.8 MB 3.4 MB/s eta 0:00:13\n",
      "   - -------------------------------------- 1.3/42.8 MB 3.5 MB/s eta 0:00:12\n",
      "   - -------------------------------------- 2.1/42.8 MB 3.9 MB/s eta 0:00:11\n",
      "   -- ------------------------------------- 2.9/42.8 MB 3.6 MB/s eta 0:00:11\n",
      "   --- ------------------------------------ 3.7/42.8 MB 3.7 MB/s eta 0:00:11\n",
      "   --- ------------------------------------ 4.2/42.8 MB 3.6 MB/s eta 0:00:11\n",
      "   ---- ----------------------------------- 5.0/42.8 MB 3.7 MB/s eta 0:00:11\n",
      "   ----- ---------------------------------- 6.0/42.8 MB 3.7 MB/s eta 0:00:10\n",
      "   ------ --------------------------------- 6.8/42.8 MB 3.8 MB/s eta 0:00:10\n",
      "   ------- -------------------------------- 7.9/42.8 MB 3.9 MB/s eta 0:00:10\n",
      "   -------- ------------------------------- 8.7/42.8 MB 3.9 MB/s eta 0:00:09\n",
      "   -------- ------------------------------- 9.4/42.8 MB 3.9 MB/s eta 0:00:09\n",
      "   --------- ------------------------------ 10.2/42.8 MB 3.9 MB/s eta 0:00:09\n",
      "   ---------- ----------------------------- 11.0/42.8 MB 3.8 MB/s eta 0:00:09\n",
      "   ---------- ----------------------------- 11.5/42.8 MB 3.8 MB/s eta 0:00:09\n",
      "   ----------- ---------------------------- 12.6/42.8 MB 3.8 MB/s eta 0:00:08\n",
      "   ------------ --------------------------- 13.4/42.8 MB 3.8 MB/s eta 0:00:08\n",
      "   ------------- -------------------------- 14.2/42.8 MB 3.8 MB/s eta 0:00:08\n",
      "   ------------- -------------------------- 14.9/42.8 MB 3.8 MB/s eta 0:00:08\n",
      "   -------------- ------------------------- 15.7/42.8 MB 3.8 MB/s eta 0:00:08\n",
      "   --------------- ------------------------ 16.5/42.8 MB 3.8 MB/s eta 0:00:07\n",
      "   ---------------- ----------------------- 17.3/42.8 MB 3.9 MB/s eta 0:00:07\n",
      "   ----------------- ---------------------- 18.4/42.8 MB 3.9 MB/s eta 0:00:07\n",
      "   ----------------- ---------------------- 19.1/42.8 MB 3.9 MB/s eta 0:00:07\n",
      "   ------------------ --------------------- 20.2/42.8 MB 3.9 MB/s eta 0:00:06\n",
      "   ------------------- -------------------- 20.7/42.8 MB 3.9 MB/s eta 0:00:06\n",
      "   ------------------- -------------------- 21.2/42.8 MB 3.8 MB/s eta 0:00:06\n",
      "   -------------------- ------------------- 21.5/42.8 MB 3.8 MB/s eta 0:00:06\n",
      "   -------------------- ------------------- 22.3/42.8 MB 3.7 MB/s eta 0:00:06\n",
      "   --------------------- ------------------ 22.8/42.8 MB 3.7 MB/s eta 0:00:06\n",
      "   ---------------------- ----------------- 23.6/42.8 MB 3.7 MB/s eta 0:00:06\n",
      "   ---------------------- ----------------- 24.1/42.8 MB 3.6 MB/s eta 0:00:06\n",
      "   ----------------------- ---------------- 24.6/42.8 MB 3.6 MB/s eta 0:00:06\n",
      "   ----------------------- ---------------- 25.2/42.8 MB 3.6 MB/s eta 0:00:05\n",
      "   ------------------------ --------------- 26.0/42.8 MB 3.6 MB/s eta 0:00:05\n",
      "   ------------------------ --------------- 26.5/42.8 MB 3.6 MB/s eta 0:00:05\n",
      "   ------------------------- -------------- 27.3/42.8 MB 3.5 MB/s eta 0:00:05\n",
      "   -------------------------- ------------- 28.0/42.8 MB 3.6 MB/s eta 0:00:05\n",
      "   -------------------------- ------------- 28.6/42.8 MB 3.6 MB/s eta 0:00:05\n",
      "   --------------------------- ------------ 29.4/42.8 MB 3.6 MB/s eta 0:00:04\n",
      "   ---------------------------- ----------- 30.4/42.8 MB 3.6 MB/s eta 0:00:04\n",
      "   ----------------------------- ---------- 31.2/42.8 MB 3.6 MB/s eta 0:00:04\n",
      "   ----------------------------- ---------- 32.0/42.8 MB 3.6 MB/s eta 0:00:04\n",
      "   ------------------------------ --------- 32.8/42.8 MB 3.6 MB/s eta 0:00:03\n",
      "   ------------------------------- -------- 33.6/42.8 MB 3.6 MB/s eta 0:00:03\n",
      "   -------------------------------- ------- 34.3/42.8 MB 3.6 MB/s eta 0:00:03\n",
      "   -------------------------------- ------- 35.1/42.8 MB 3.6 MB/s eta 0:00:03\n",
      "   --------------------------------- ------ 35.9/42.8 MB 3.6 MB/s eta 0:00:02\n",
      "   ---------------------------------- ----- 37.0/42.8 MB 3.6 MB/s eta 0:00:02\n",
      "   ----------------------------------- ---- 37.7/42.8 MB 3.6 MB/s eta 0:00:02\n",
      "   ------------------------------------ --- 38.8/42.8 MB 3.7 MB/s eta 0:00:02\n",
      "   ------------------------------------- -- 39.6/42.8 MB 3.7 MB/s eta 0:00:01\n",
      "   ------------------------------------- -- 40.6/42.8 MB 3.7 MB/s eta 0:00:01\n",
      "   -------------------------------------- - 41.4/42.8 MB 3.7 MB/s eta 0:00:01\n",
      "   -------------------------------------- - 41.7/42.8 MB 3.7 MB/s eta 0:00:01\n",
      "   ---------------------------------------  41.9/42.8 MB 3.6 MB/s eta 0:00:01\n",
      "   ---------------------------------------  42.2/42.8 MB 3.6 MB/s eta 0:00:01\n",
      "   ---------------------------------------  42.5/42.8 MB 3.5 MB/s eta 0:00:01\n",
      "   ---------------------------------------- 42.8/42.8 MB 3.5 MB/s eta 0:00:00\n",
      "Downloading arro3_core-0.5.1-cp312-cp312-win_amd64.whl (2.6 MB)\n",
      "   ---------------------------------------- 0.0/2.6 MB ? eta -:--:--\n",
      "   -------- ------------------------------- 0.5/2.6 MB 2.8 MB/s eta 0:00:01\n",
      "   ---------------- ----------------------- 1.0/2.6 MB 3.0 MB/s eta 0:00:01\n",
      "   ------------------------ --------------- 1.6/2.6 MB 2.9 MB/s eta 0:00:01\n",
      "   -------------------------------- ------- 2.1/2.6 MB 2.9 MB/s eta 0:00:01\n",
      "   ---------------------------------------- 2.6/2.6 MB 2.8 MB/s eta 0:00:00\n",
      "Downloading Deprecated-1.2.18-py2.py3-none-any.whl (10.0 kB)\n",
      "Installing collected packages: deprecated, arro3-core, deltalake\n",
      "\n",
      "   -------------------------- ------------- 2/3 [deltalake]\n",
      "   -------------------------- ------------- 2/3 [deltalake]\n",
      "   -------------------------- ------------- 2/3 [deltalake]\n",
      "   -------------------------- ------------- 2/3 [deltalake]\n",
      "   ---------------------------------------- 3/3 [deltalake]\n",
      "\n",
      "Successfully installed arro3-core-0.5.1 deltalake-1.1.2 deprecated-1.2.18\n"
     ]
    }
   ],
   "source": [
    "!pip install deltalake"
   ]
  },
  {
   "cell_type": "code",
   "execution_count": 10,
   "id": "df1fa626",
   "metadata": {},
   "outputs": [
    {
     "name": "stdout",
     "output_type": "stream",
     "text": [
      "Collecting dash-bootstrap-components\n",
      "  Downloading dash_bootstrap_components-2.0.3-py3-none-any.whl.metadata (18 kB)\n",
      "Collecting dash>=3.0.4 (from dash-bootstrap-components)\n",
      "  Downloading dash-3.1.1-py3-none-any.whl.metadata (10 kB)\n",
      "Requirement already satisfied: Flask<3.2,>=1.0.4 in c:\\users\\pichau\\appdata\\local\\programs\\python\\python312\\lib\\site-packages (from dash>=3.0.4->dash-bootstrap-components) (3.0.3)\n",
      "Requirement already satisfied: Werkzeug<3.2 in c:\\users\\pichau\\appdata\\local\\programs\\python\\python312\\lib\\site-packages (from dash>=3.0.4->dash-bootstrap-components) (3.0.6)\n",
      "Requirement already satisfied: plotly>=5.0.0 in c:\\users\\pichau\\appdata\\local\\programs\\python\\python312\\lib\\site-packages (from dash>=3.0.4->dash-bootstrap-components) (5.24.1)\n",
      "Requirement already satisfied: importlib-metadata in c:\\users\\pichau\\appdata\\local\\programs\\python\\python312\\lib\\site-packages (from dash>=3.0.4->dash-bootstrap-components) (8.5.0)\n",
      "Requirement already satisfied: typing-extensions>=4.1.1 in c:\\users\\pichau\\appdata\\roaming\\python\\python312\\site-packages (from dash>=3.0.4->dash-bootstrap-components) (4.12.2)\n",
      "Requirement already satisfied: requests in c:\\users\\pichau\\appdata\\local\\programs\\python\\python312\\lib\\site-packages (from dash>=3.0.4->dash-bootstrap-components) (2.32.3)\n",
      "Requirement already satisfied: retrying in c:\\users\\pichau\\appdata\\local\\programs\\python\\python312\\lib\\site-packages (from dash>=3.0.4->dash-bootstrap-components) (1.3.4)\n",
      "Requirement already satisfied: nest-asyncio in c:\\users\\pichau\\appdata\\local\\programs\\python\\python312\\lib\\site-packages (from dash>=3.0.4->dash-bootstrap-components) (1.6.0)\n",
      "Requirement already satisfied: setuptools in c:\\users\\pichau\\appdata\\local\\programs\\python\\python312\\lib\\site-packages (from dash>=3.0.4->dash-bootstrap-components) (80.9.0)\n",
      "Requirement already satisfied: Jinja2>=3.1.2 in c:\\users\\pichau\\appdata\\local\\programs\\python\\python312\\lib\\site-packages (from Flask<3.2,>=1.0.4->dash>=3.0.4->dash-bootstrap-components) (3.1.4)\n",
      "Requirement already satisfied: itsdangerous>=2.1.2 in c:\\users\\pichau\\appdata\\local\\programs\\python\\python312\\lib\\site-packages (from Flask<3.2,>=1.0.4->dash>=3.0.4->dash-bootstrap-components) (2.2.0)\n",
      "Requirement already satisfied: click>=8.1.3 in c:\\users\\pichau\\appdata\\local\\programs\\python\\python312\\lib\\site-packages (from Flask<3.2,>=1.0.4->dash>=3.0.4->dash-bootstrap-components) (8.1.7)\n",
      "Requirement already satisfied: blinker>=1.6.2 in c:\\users\\pichau\\appdata\\local\\programs\\python\\python312\\lib\\site-packages (from Flask<3.2,>=1.0.4->dash>=3.0.4->dash-bootstrap-components) (1.8.2)\n",
      "Requirement already satisfied: MarkupSafe>=2.1.1 in c:\\users\\pichau\\appdata\\local\\programs\\python\\python312\\lib\\site-packages (from Werkzeug<3.2->dash>=3.0.4->dash-bootstrap-components) (2.1.5)\n",
      "Requirement already satisfied: colorama in c:\\users\\pichau\\appdata\\local\\programs\\python\\python312\\lib\\site-packages (from click>=8.1.3->Flask<3.2,>=1.0.4->dash>=3.0.4->dash-bootstrap-components) (0.4.6)\n",
      "Requirement already satisfied: tenacity>=6.2.0 in c:\\users\\pichau\\appdata\\local\\programs\\python\\python312\\lib\\site-packages (from plotly>=5.0.0->dash>=3.0.4->dash-bootstrap-components) (9.0.0)\n",
      "Requirement already satisfied: packaging in c:\\users\\pichau\\appdata\\local\\programs\\python\\python312\\lib\\site-packages (from plotly>=5.0.0->dash>=3.0.4->dash-bootstrap-components) (24.2)\n",
      "Requirement already satisfied: zipp>=3.20 in c:\\users\\pichau\\appdata\\local\\programs\\python\\python312\\lib\\site-packages (from importlib-metadata->dash>=3.0.4->dash-bootstrap-components) (3.21.0)\n",
      "Requirement already satisfied: charset-normalizer<4,>=2 in c:\\users\\pichau\\appdata\\local\\programs\\python\\python312\\lib\\site-packages (from requests->dash>=3.0.4->dash-bootstrap-components) (3.3.2)\n",
      "Requirement already satisfied: idna<4,>=2.5 in c:\\users\\pichau\\appdata\\local\\programs\\python\\python312\\lib\\site-packages (from requests->dash>=3.0.4->dash-bootstrap-components) (3.7)\n",
      "Requirement already satisfied: urllib3<3,>=1.21.1 in c:\\users\\pichau\\appdata\\local\\programs\\python\\python312\\lib\\site-packages (from requests->dash>=3.0.4->dash-bootstrap-components) (2.2.2)\n",
      "Requirement already satisfied: certifi>=2017.4.17 in c:\\users\\pichau\\appdata\\local\\programs\\python\\python312\\lib\\site-packages (from requests->dash>=3.0.4->dash-bootstrap-components) (2024.7.4)\n",
      "Requirement already satisfied: six>=1.7.0 in c:\\users\\pichau\\appdata\\local\\programs\\python\\python312\\lib\\site-packages (from retrying->dash>=3.0.4->dash-bootstrap-components) (1.17.0)\n",
      "Downloading dash_bootstrap_components-2.0.3-py3-none-any.whl (203 kB)\n",
      "Downloading dash-3.1.1-py3-none-any.whl (7.9 MB)\n",
      "   ---------------------------------------- 0.0/7.9 MB ? eta -:--:--\n",
      "   ---------------------------------------- 0.0/7.9 MB ? eta -:--:--\n",
      "   ---------------------------------------- 0.0/7.9 MB ? eta -:--:--\n",
      "   - -------------------------------------- 0.3/7.9 MB ? eta -:--:--\n",
      "   ----- ---------------------------------- 1.0/7.9 MB 2.8 MB/s eta 0:00:03\n",
      "   ------- -------------------------------- 1.6/7.9 MB 2.9 MB/s eta 0:00:03\n",
      "   ----------- ---------------------------- 2.4/7.9 MB 3.1 MB/s eta 0:00:02\n",
      "   --------------- ------------------------ 3.1/7.9 MB 3.3 MB/s eta 0:00:02\n",
      "   ------------------- -------------------- 3.9/7.9 MB 3.4 MB/s eta 0:00:02\n",
      "   ----------------------- ---------------- 4.7/7.9 MB 3.4 MB/s eta 0:00:01\n",
      "   --------------------------- ------------ 5.5/7.9 MB 3.5 MB/s eta 0:00:01\n",
      "   ------------------------------- -------- 6.3/7.9 MB 3.5 MB/s eta 0:00:01\n",
      "   ----------------------------------- ---- 7.1/7.9 MB 3.5 MB/s eta 0:00:01\n",
      "   ---------------------------------------- 7.9/7.9 MB 3.5 MB/s eta 0:00:00\n",
      "Installing collected packages: dash, dash-bootstrap-components\n",
      "\n",
      "  Attempting uninstall: dash\n",
      "\n",
      "    Found existing installation: dash 2.18.2\n",
      "\n",
      "    Uninstalling dash-2.18.2:\n",
      "\n",
      "      Successfully uninstalled dash-2.18.2\n",
      "\n",
      "   ---------------------------------------- 0/2 [dash]\n",
      "   ---------------------------------------- 0/2 [dash]\n",
      "   ---------------------------------------- 0/2 [dash]\n",
      "   ---------------------------------------- 0/2 [dash]\n",
      "   ---------------------------------------- 0/2 [dash]\n",
      "   ---------------------------------------- 0/2 [dash]\n",
      "   ---------------------------------------- 0/2 [dash]\n",
      "   ---------------------------------------- 0/2 [dash]\n",
      "   ---------------------------------------- 0/2 [dash]\n",
      "   ---------------------------------------- 0/2 [dash]\n",
      "   ---------------------------------------- 0/2 [dash]\n",
      "   ---------------------------------------- 0/2 [dash]\n",
      "   ---------------------------------------- 0/2 [dash]\n",
      "   ---------------------------------------- 0/2 [dash]\n",
      "   ---------------------------------------- 0/2 [dash]\n",
      "   ---------------------------------------- 0/2 [dash]\n",
      "   ---------------------------------------- 0/2 [dash]\n",
      "   -------------------- ------------------- 1/2 [dash-bootstrap-components]\n",
      "   -------------------- ------------------- 1/2 [dash-bootstrap-components]\n",
      "   -------------------- ------------------- 1/2 [dash-bootstrap-components]\n",
      "   ---------------------------------------- 2/2 [dash-bootstrap-components]\n",
      "\n",
      "Successfully installed dash-3.1.1 dash-bootstrap-components-2.0.3\n"
     ]
    },
    {
     "name": "stderr",
     "output_type": "stream",
     "text": [
      "ERROR: pip's dependency resolver does not currently take into account all the packages that are installed. This behaviour is the source of the following dependency conflicts.\n",
      "pycaret 3.3.2 requires matplotlib<3.8.0, but you have matplotlib 3.9.3 which is incompatible.\n",
      "pycaret 3.3.2 requires numpy<1.27,>=1.21, but you have numpy 2.2.0 which is incompatible.\n",
      "pycaret 3.3.2 requires pandas<2.2.0, but you have pandas 2.2.3 which is incompatible.\n",
      "pycaret 3.3.2 requires scipy<=1.11.4,>=1.6.1, but you have scipy 1.14.1 which is incompatible.\n"
     ]
    }
   ],
   "source": [
    "!pip install dash-bootstrap-components "
   ]
  },
  {
   "cell_type": "code",
   "execution_count": 2,
   "id": "b915eb12",
   "metadata": {},
   "outputs": [],
   "source": [
    "import numpy as np\n",
    "import pandas as pd\n",
    "import matplotlib.pyplot as plt\n",
    "import dash\n",
    "import plotly\n",
    "import dash_bootstrap_components as dbc\n",
    "import geopandas as gpd\n",
    "import deltalake\n",
    "from deltalake import DeltaTable\n",
    "from deltalake import write_deltalake\n",
    "import sys\n",
    "import os"
   ]
  },
  {
   "cell_type": "markdown",
   "id": "17d5d079",
   "metadata": {},
   "source": [
    "**Importando a base de dados**"
   ]
  },
  {
   "cell_type": "code",
   "execution_count": 17,
   "id": "c0ef5958",
   "metadata": {},
   "outputs": [
    {
     "data": {
      "text/plain": [
       "'c:\\\\Users\\\\Pichau\\\\Desktop\\\\dashboard_deltalake\\\\main'"
      ]
     },
     "execution_count": 17,
     "metadata": {},
     "output_type": "execute_result"
    }
   ],
   "source": [
    "%pwd"
   ]
  },
  {
   "cell_type": "code",
   "execution_count": null,
   "id": "51386ef2",
   "metadata": {},
   "outputs": [
    {
     "ename": "ImportError",
     "evalue": "cannot import name 'PrepareData' from 'src.PrepareData' (c:\\Users\\Pichau\\Desktop\\dashboard_deltalake\\main\\src\\PrepareData.py)",
     "output_type": "error",
     "traceback": [
      "\u001b[1;31m---------------------------------------------------------------------------\u001b[0m",
      "\u001b[1;31mImportError\u001b[0m                               Traceback (most recent call last)",
      "Cell \u001b[1;32mIn[18], line 3\u001b[0m\n\u001b[0;32m      1\u001b[0m \u001b[38;5;66;03m# Adiciona a pasta main ao sys.path\u001b[39;00m\n\u001b[0;32m      2\u001b[0m sys\u001b[38;5;241m.\u001b[39mpath\u001b[38;5;241m.\u001b[39mappend(os\u001b[38;5;241m.\u001b[39mpath\u001b[38;5;241m.\u001b[39mabspath(os\u001b[38;5;241m.\u001b[39mpath\u001b[38;5;241m.\u001b[39mjoin(os\u001b[38;5;241m.\u001b[39mpath\u001b[38;5;241m.\u001b[39mdirname(\u001b[38;5;124m'\u001b[39m\u001b[38;5;124m__file__\u001b[39m\u001b[38;5;124m'\u001b[39m))))\n\u001b[1;32m----> 3\u001b[0m \u001b[38;5;28;01mfrom\u001b[39;00m \u001b[38;5;21;01msrc\u001b[39;00m\u001b[38;5;21;01m.\u001b[39;00m\u001b[38;5;21;01mPrepareData\u001b[39;00m \u001b[38;5;28;01mimport\u001b[39;00m PrepareData\n",
      "\u001b[1;31mImportError\u001b[0m: cannot import name 'PrepareData' from 'src.PrepareData' (c:\\Users\\Pichau\\Desktop\\dashboard_deltalake\\main\\src\\PrepareData.py)"
     ]
    }
   ],
   "source": [
    "# Adiciona a pasta main ao sys.path\n",
    "sys.path.append(os.path.abspath(os.path.join(os.path.dirname('__file__'))))\n",
    "from main.src.dash_preparedata import PrepareData\n",
    "\n"
   ]
  },
  {
   "cell_type": "code",
   "execution_count": null,
   "id": "f0c2f68b",
   "metadata": {},
   "outputs": [
    {
     "ename": "ImportError",
     "evalue": "cannot import name 'PrepareData' from 'src.PrepareData' (c:\\Users\\Pichau\\Desktop\\dashboard_deltalake\\main\\src\\PrepareData.py)",
     "output_type": "error",
     "traceback": [
      "\u001b[1;31m---------------------------------------------------------------------------\u001b[0m",
      "\u001b[1;31mImportError\u001b[0m                               Traceback (most recent call last)",
      "Cell \u001b[1;32mIn[19], line 1\u001b[0m\n\u001b[1;32m----> 1\u001b[0m \u001b[38;5;28;01mfrom\u001b[39;00m \u001b[38;5;21;01msrc\u001b[39;00m\u001b[38;5;21;01m.\u001b[39;00m\u001b[38;5;21;01mPrepareData\u001b[39;00m \u001b[38;5;28;01mimport\u001b[39;00m PrepareData\n\u001b[0;32m      2\u001b[0m \u001b[38;5;66;03m# df_path=r\"C:\\Users\\Pichau\\Desktop\\dashboard_deltalake\\Dataleke\\Gold\\cleaned_data.csv\"\u001b[39;00m\n\u001b[0;32m      3\u001b[0m \u001b[38;5;66;03m# PD = PrepareData(df_path)\u001b[39;00m\n\u001b[0;32m      4\u001b[0m \u001b[38;5;66;03m# df_data= PD.prepare_data()\u001b[39;00m\n\u001b[0;32m      5\u001b[0m \u001b[38;5;66;03m# df_data.head()\u001b[39;00m\n",
      "\u001b[1;31mImportError\u001b[0m: cannot import name 'PrepareData' from 'src.PrepareData' (c:\\Users\\Pichau\\Desktop\\dashboard_deltalake\\main\\src\\PrepareData.py)"
     ]
    }
   ],
   "source": [
    "from main.src.dash_preparedata import PrepareData\n",
    "# df_path=r\"C:\\Users\\Pichau\\Desktop\\dashboard_deltalake\\Dataleke\\Gold\\cleaned_data.csv\"\n",
    "# PD = PrepareData(df_path)\n",
    "# df_data= PD.prepare_data()\n",
    "# df_data.head()"
   ]
  },
  {
   "cell_type": "code",
   "execution_count": 3,
   "id": "53d373d0",
   "metadata": {},
   "outputs": [
    {
     "data": {
      "application/vnd.microsoft.datawrangler.viewer.v0+json": {
       "columns": [
        {
         "name": "index",
         "rawType": "int64",
         "type": "integer"
        },
        {
         "name": "Unnamed: 0",
         "rawType": "int64",
         "type": "integer"
        },
        {
         "name": "BOROUGH",
         "rawType": "int64",
         "type": "integer"
        },
        {
         "name": "NEIGHBORHOOD",
         "rawType": "object",
         "type": "string"
        },
        {
         "name": "BUILDING CLASS CATEGORY",
         "rawType": "object",
         "type": "string"
        },
        {
         "name": "TAX CLASS AT PRESENT",
         "rawType": "object",
         "type": "string"
        },
        {
         "name": "BLOCK",
         "rawType": "int64",
         "type": "integer"
        },
        {
         "name": "LOT",
         "rawType": "int64",
         "type": "integer"
        },
        {
         "name": "EASE-MENT",
         "rawType": "object",
         "type": "string"
        },
        {
         "name": "BUILDING CLASS AT PRESENT",
         "rawType": "object",
         "type": "string"
        },
        {
         "name": "ADDRESS",
         "rawType": "object",
         "type": "string"
        },
        {
         "name": "APARTMENT NUMBER",
         "rawType": "object",
         "type": "string"
        },
        {
         "name": "ZIP CODE",
         "rawType": "int64",
         "type": "integer"
        },
        {
         "name": "RESIDENTIAL UNITS",
         "rawType": "int64",
         "type": "integer"
        },
        {
         "name": "COMMERCIAL UNITS",
         "rawType": "int64",
         "type": "integer"
        },
        {
         "name": "TOTAL UNITS",
         "rawType": "int64",
         "type": "integer"
        },
        {
         "name": "LAND SQUARE FEET",
         "rawType": "float64",
         "type": "float"
        },
        {
         "name": "GROSS SQUARE FEET",
         "rawType": "float64",
         "type": "float"
        },
        {
         "name": "YEAR BUILT",
         "rawType": "int64",
         "type": "integer"
        },
        {
         "name": "TAX CLASS AT TIME OF SALE",
         "rawType": "int64",
         "type": "integer"
        },
        {
         "name": "BUILDING CLASS AT TIME OF SALE",
         "rawType": "object",
         "type": "string"
        },
        {
         "name": "SALE PRICE",
         "rawType": "float64",
         "type": "float"
        },
        {
         "name": "SALE DATE",
         "rawType": "object",
         "type": "string"
        },
        {
         "name": "LATITUDE",
         "rawType": "float64",
         "type": "float"
        },
        {
         "name": "LONGITUDE",
         "rawType": "float64",
         "type": "float"
        }
       ],
       "ref": "c6899218-c817-42fe-87ae-149b1b79e45e",
       "rows": [
        [
         "0",
         "4",
         "1",
         "ALPHABET CITY",
         "07 RENTALS - WALKUP APARTMENTS             ",
         "2A",
         "392",
         "6",
         " ",
         "C2",
         "153 AVENUE B",
         " ",
         "10009",
         "5",
         "0",
         "5",
         "1633.0",
         "6440.0",
         "1900",
         "2",
         "C2",
         "6625000.0",
         "2017-07-19",
         "40.72661",
         "-73.97995"
        ],
        [
         "1",
         "7",
         "1",
         "ALPHABET CITY",
         "07 RENTALS - WALKUP APARTMENTS             ",
         "2B",
         "402",
         "21",
         " ",
         "C4",
         "154 EAST 7TH STREET",
         " ",
         "10009",
         "10",
         "0",
         "10",
         "2272.0",
         "6794.0",
         "1913",
         "2",
         "C4",
         "3936272.0",
         "2016-09-23",
         "40.72547",
         "-73.9824"
        ],
        [
         "2",
         "8",
         "1",
         "ALPHABET CITY",
         "07 RENTALS - WALKUP APARTMENTS             ",
         "2A",
         "404",
         "55",
         " ",
         "C2",
         "301 EAST 10TH   STREET",
         " ",
         "10009",
         "6",
         "0",
         "6",
         "2369.0",
         "4615.0",
         "1900",
         "2",
         "C2",
         "8000000.0",
         "2016-11-17",
         "40.72774",
         "-73.9817"
        ],
        [
         "3",
         "10",
         "1",
         "ALPHABET CITY",
         "07 RENTALS - WALKUP APARTMENTS             ",
         "2B",
         "406",
         "32",
         " ",
         "C4",
         "210 AVENUE B",
         " ",
         "10009",
         "8",
         "0",
         "8",
         "1750.0",
         "4226.0",
         "1920",
         "2",
         "C4",
         "3192840.0",
         "2016-09-23",
         "40.72857",
         "-73.9788"
        ],
        [
         "4",
         "13",
         "1",
         "ALPHABET CITY",
         "08 RENTALS - ELEVATOR APARTMENTS           ",
         "2",
         "387",
         "153",
         " ",
         "D9",
         "629 EAST 5TH STREET",
         " ",
         "10009",
         "24",
         "0",
         "24",
         "4489.0",
         "18523.0",
         "1920",
         "2",
         "D9",
         "16232000.0",
         "2016-11-07",
         "40.72346",
         "-73.98079"
        ]
       ],
       "shape": {
        "columns": 24,
        "rows": 5
       }
      },
      "text/html": [
       "<div>\n",
       "<style scoped>\n",
       "    .dataframe tbody tr th:only-of-type {\n",
       "        vertical-align: middle;\n",
       "    }\n",
       "\n",
       "    .dataframe tbody tr th {\n",
       "        vertical-align: top;\n",
       "    }\n",
       "\n",
       "    .dataframe thead th {\n",
       "        text-align: right;\n",
       "    }\n",
       "</style>\n",
       "<table border=\"1\" class=\"dataframe\">\n",
       "  <thead>\n",
       "    <tr style=\"text-align: right;\">\n",
       "      <th></th>\n",
       "      <th>Unnamed: 0</th>\n",
       "      <th>BOROUGH</th>\n",
       "      <th>NEIGHBORHOOD</th>\n",
       "      <th>BUILDING CLASS CATEGORY</th>\n",
       "      <th>TAX CLASS AT PRESENT</th>\n",
       "      <th>BLOCK</th>\n",
       "      <th>LOT</th>\n",
       "      <th>EASE-MENT</th>\n",
       "      <th>BUILDING CLASS AT PRESENT</th>\n",
       "      <th>ADDRESS</th>\n",
       "      <th>...</th>\n",
       "      <th>TOTAL UNITS</th>\n",
       "      <th>LAND SQUARE FEET</th>\n",
       "      <th>GROSS SQUARE FEET</th>\n",
       "      <th>YEAR BUILT</th>\n",
       "      <th>TAX CLASS AT TIME OF SALE</th>\n",
       "      <th>BUILDING CLASS AT TIME OF SALE</th>\n",
       "      <th>SALE PRICE</th>\n",
       "      <th>SALE DATE</th>\n",
       "      <th>LATITUDE</th>\n",
       "      <th>LONGITUDE</th>\n",
       "    </tr>\n",
       "  </thead>\n",
       "  <tbody>\n",
       "    <tr>\n",
       "      <th>0</th>\n",
       "      <td>4</td>\n",
       "      <td>1</td>\n",
       "      <td>ALPHABET CITY</td>\n",
       "      <td>07 RENTALS - WALKUP APARTMENTS</td>\n",
       "      <td>2A</td>\n",
       "      <td>392</td>\n",
       "      <td>6</td>\n",
       "      <td></td>\n",
       "      <td>C2</td>\n",
       "      <td>153 AVENUE B</td>\n",
       "      <td>...</td>\n",
       "      <td>5</td>\n",
       "      <td>1633.0</td>\n",
       "      <td>6440.0</td>\n",
       "      <td>1900</td>\n",
       "      <td>2</td>\n",
       "      <td>C2</td>\n",
       "      <td>6625000.0</td>\n",
       "      <td>2017-07-19</td>\n",
       "      <td>40.72661</td>\n",
       "      <td>-73.97995</td>\n",
       "    </tr>\n",
       "    <tr>\n",
       "      <th>1</th>\n",
       "      <td>7</td>\n",
       "      <td>1</td>\n",
       "      <td>ALPHABET CITY</td>\n",
       "      <td>07 RENTALS - WALKUP APARTMENTS</td>\n",
       "      <td>2B</td>\n",
       "      <td>402</td>\n",
       "      <td>21</td>\n",
       "      <td></td>\n",
       "      <td>C4</td>\n",
       "      <td>154 EAST 7TH STREET</td>\n",
       "      <td>...</td>\n",
       "      <td>10</td>\n",
       "      <td>2272.0</td>\n",
       "      <td>6794.0</td>\n",
       "      <td>1913</td>\n",
       "      <td>2</td>\n",
       "      <td>C4</td>\n",
       "      <td>3936272.0</td>\n",
       "      <td>2016-09-23</td>\n",
       "      <td>40.72547</td>\n",
       "      <td>-73.98240</td>\n",
       "    </tr>\n",
       "    <tr>\n",
       "      <th>2</th>\n",
       "      <td>8</td>\n",
       "      <td>1</td>\n",
       "      <td>ALPHABET CITY</td>\n",
       "      <td>07 RENTALS - WALKUP APARTMENTS</td>\n",
       "      <td>2A</td>\n",
       "      <td>404</td>\n",
       "      <td>55</td>\n",
       "      <td></td>\n",
       "      <td>C2</td>\n",
       "      <td>301 EAST 10TH   STREET</td>\n",
       "      <td>...</td>\n",
       "      <td>6</td>\n",
       "      <td>2369.0</td>\n",
       "      <td>4615.0</td>\n",
       "      <td>1900</td>\n",
       "      <td>2</td>\n",
       "      <td>C2</td>\n",
       "      <td>8000000.0</td>\n",
       "      <td>2016-11-17</td>\n",
       "      <td>40.72774</td>\n",
       "      <td>-73.98170</td>\n",
       "    </tr>\n",
       "    <tr>\n",
       "      <th>3</th>\n",
       "      <td>10</td>\n",
       "      <td>1</td>\n",
       "      <td>ALPHABET CITY</td>\n",
       "      <td>07 RENTALS - WALKUP APARTMENTS</td>\n",
       "      <td>2B</td>\n",
       "      <td>406</td>\n",
       "      <td>32</td>\n",
       "      <td></td>\n",
       "      <td>C4</td>\n",
       "      <td>210 AVENUE B</td>\n",
       "      <td>...</td>\n",
       "      <td>8</td>\n",
       "      <td>1750.0</td>\n",
       "      <td>4226.0</td>\n",
       "      <td>1920</td>\n",
       "      <td>2</td>\n",
       "      <td>C4</td>\n",
       "      <td>3192840.0</td>\n",
       "      <td>2016-09-23</td>\n",
       "      <td>40.72857</td>\n",
       "      <td>-73.97880</td>\n",
       "    </tr>\n",
       "    <tr>\n",
       "      <th>4</th>\n",
       "      <td>13</td>\n",
       "      <td>1</td>\n",
       "      <td>ALPHABET CITY</td>\n",
       "      <td>08 RENTALS - ELEVATOR APARTMENTS</td>\n",
       "      <td>2</td>\n",
       "      <td>387</td>\n",
       "      <td>153</td>\n",
       "      <td></td>\n",
       "      <td>D9</td>\n",
       "      <td>629 EAST 5TH STREET</td>\n",
       "      <td>...</td>\n",
       "      <td>24</td>\n",
       "      <td>4489.0</td>\n",
       "      <td>18523.0</td>\n",
       "      <td>1920</td>\n",
       "      <td>2</td>\n",
       "      <td>D9</td>\n",
       "      <td>16232000.0</td>\n",
       "      <td>2016-11-07</td>\n",
       "      <td>40.72346</td>\n",
       "      <td>-73.98079</td>\n",
       "    </tr>\n",
       "  </tbody>\n",
       "</table>\n",
       "<p>5 rows × 24 columns</p>\n",
       "</div>"
      ],
      "text/plain": [
       "   Unnamed: 0  BOROUGH   NEIGHBORHOOD  \\\n",
       "0           4        1  ALPHABET CITY   \n",
       "1           7        1  ALPHABET CITY   \n",
       "2           8        1  ALPHABET CITY   \n",
       "3          10        1  ALPHABET CITY   \n",
       "4          13        1  ALPHABET CITY   \n",
       "\n",
       "                       BUILDING CLASS CATEGORY TAX CLASS AT PRESENT  BLOCK  \\\n",
       "0  07 RENTALS - WALKUP APARTMENTS                                2A    392   \n",
       "1  07 RENTALS - WALKUP APARTMENTS                                2B    402   \n",
       "2  07 RENTALS - WALKUP APARTMENTS                                2A    404   \n",
       "3  07 RENTALS - WALKUP APARTMENTS                                2B    406   \n",
       "4  08 RENTALS - ELEVATOR APARTMENTS                               2    387   \n",
       "\n",
       "   LOT EASE-MENT BUILDING CLASS AT PRESENT                 ADDRESS  ...  \\\n",
       "0    6                                  C2            153 AVENUE B  ...   \n",
       "1   21                                  C4     154 EAST 7TH STREET  ...   \n",
       "2   55                                  C2  301 EAST 10TH   STREET  ...   \n",
       "3   32                                  C4            210 AVENUE B  ...   \n",
       "4  153                                  D9     629 EAST 5TH STREET  ...   \n",
       "\n",
       "  TOTAL UNITS  LAND SQUARE FEET  GROSS SQUARE FEET  YEAR BUILT  \\\n",
       "0           5            1633.0             6440.0        1900   \n",
       "1          10            2272.0             6794.0        1913   \n",
       "2           6            2369.0             4615.0        1900   \n",
       "3           8            1750.0             4226.0        1920   \n",
       "4          24            4489.0            18523.0        1920   \n",
       "\n",
       "   TAX CLASS AT TIME OF SALE  BUILDING CLASS AT TIME OF SALE  SALE PRICE  \\\n",
       "0                          2                              C2   6625000.0   \n",
       "1                          2                              C4   3936272.0   \n",
       "2                          2                              C2   8000000.0   \n",
       "3                          2                              C4   3192840.0   \n",
       "4                          2                              D9  16232000.0   \n",
       "\n",
       "    SALE DATE  LATITUDE LONGITUDE  \n",
       "0  2017-07-19  40.72661 -73.97995  \n",
       "1  2016-09-23  40.72547 -73.98240  \n",
       "2  2016-11-17  40.72774 -73.98170  \n",
       "3  2016-09-23  40.72857 -73.97880  \n",
       "4  2016-11-07  40.72346 -73.98079  \n",
       "\n",
       "[5 rows x 24 columns]"
      ]
     },
     "execution_count": 3,
     "metadata": {},
     "output_type": "execute_result"
    }
   ],
   "source": [
    "df_nyc = pd.read_csv(r\"C:\\Users\\Pichau\\Desktop\\dashboard_deltalake\\Dataleke\\Gold\\cleaned_data.csv\")\n",
    "df_nyc.head()"
   ]
  },
  {
   "cell_type": "code",
   "execution_count": 4,
   "id": "fa06e1e8",
   "metadata": {},
   "outputs": [
    {
     "data": {
      "text/plain": [
       "Index(['Unnamed: 0', 'BOROUGH', 'NEIGHBORHOOD', 'BUILDING CLASS CATEGORY',\n",
       "       'TAX CLASS AT PRESENT', 'BLOCK', 'LOT', 'EASE-MENT',\n",
       "       'BUILDING CLASS AT PRESENT', 'ADDRESS', 'APARTMENT NUMBER', 'ZIP CODE',\n",
       "       'RESIDENTIAL UNITS', 'COMMERCIAL UNITS', 'TOTAL UNITS',\n",
       "       'LAND SQUARE FEET', 'GROSS SQUARE FEET', 'YEAR BUILT',\n",
       "       'TAX CLASS AT TIME OF SALE', 'BUILDING CLASS AT TIME OF SALE',\n",
       "       'SALE PRICE', 'SALE DATE', 'LATITUDE', 'LONGITUDE'],\n",
       "      dtype='object')"
      ]
     },
     "execution_count": 4,
     "metadata": {},
     "output_type": "execute_result"
    }
   ],
   "source": [
    "df_nyc.columns"
   ]
  },
  {
   "cell_type": "markdown",
   "id": "9f505695",
   "metadata": {},
   "source": []
  },
  {
   "cell_type": "code",
   "execution_count": 25,
   "id": "616446fe",
   "metadata": {},
   "outputs": [],
   "source": [
    "df_nyc['SALE DATE'] = pd.to_datetime(df_nyc['SALE DATE']) "
   ]
  },
  {
   "cell_type": "code",
   "execution_count": 26,
   "id": "48e2d501",
   "metadata": {},
   "outputs": [
    {
     "data": {
      "text/plain": [
       "Timestamp('2016-09-01 00:00:00')"
      ]
     },
     "execution_count": 26,
     "metadata": {},
     "output_type": "execute_result"
    }
   ],
   "source": [
    "df_nyc['SALE DATE'].min()"
   ]
  },
  {
   "cell_type": "code",
   "execution_count": 27,
   "id": "a8ae93bc",
   "metadata": {},
   "outputs": [
    {
     "data": {
      "text/plain": [
       "Timestamp('2017-08-31 00:00:00')"
      ]
     },
     "execution_count": 27,
     "metadata": {},
     "output_type": "execute_result"
    }
   ],
   "source": [
    "df_nyc['SALE DATE'].max()"
   ]
  },
  {
   "cell_type": "code",
   "execution_count": 5,
   "id": "69aa88fe",
   "metadata": {},
   "outputs": [
    {
     "name": "stdout",
     "output_type": "stream",
     "text": [
      "<class 'pandas.core.frame.DataFrame'>\n",
      "RangeIndex: 29329 entries, 0 to 29328\n",
      "Data columns (total 24 columns):\n",
      " #   Column                          Non-Null Count  Dtype  \n",
      "---  ------                          --------------  -----  \n",
      " 0   Unnamed: 0                      29329 non-null  int64  \n",
      " 1   BOROUGH                         29329 non-null  int64  \n",
      " 2   NEIGHBORHOOD                    29329 non-null  object \n",
      " 3   BUILDING CLASS CATEGORY         29329 non-null  object \n",
      " 4   TAX CLASS AT PRESENT            29329 non-null  object \n",
      " 5   BLOCK                           29329 non-null  int64  \n",
      " 6   LOT                             29329 non-null  int64  \n",
      " 7   EASE-MENT                       29329 non-null  object \n",
      " 8   BUILDING CLASS AT PRESENT       29329 non-null  object \n",
      " 9   ADDRESS                         29329 non-null  object \n",
      " 10  APARTMENT NUMBER                29329 non-null  object \n",
      " 11  ZIP CODE                        29329 non-null  int64  \n",
      " 12  RESIDENTIAL UNITS               29329 non-null  int64  \n",
      " 13  COMMERCIAL UNITS                29329 non-null  int64  \n",
      " 14  TOTAL UNITS                     29329 non-null  int64  \n",
      " 15  LAND SQUARE FEET                29329 non-null  float64\n",
      " 16  GROSS SQUARE FEET               29329 non-null  float64\n",
      " 17  YEAR BUILT                      29329 non-null  int64  \n",
      " 18  TAX CLASS AT TIME OF SALE       29329 non-null  int64  \n",
      " 19  BUILDING CLASS AT TIME OF SALE  29329 non-null  object \n",
      " 20  SALE PRICE                      29329 non-null  float64\n",
      " 21  SALE DATE                       29329 non-null  object \n",
      " 22  LATITUDE                        29318 non-null  float64\n",
      " 23  LONGITUDE                       29318 non-null  float64\n",
      "dtypes: float64(5), int64(10), object(9)\n",
      "memory usage: 5.4+ MB\n"
     ]
    }
   ],
   "source": [
    "df_nyc.info()"
   ]
  },
  {
   "cell_type": "code",
   "execution_count": 6,
   "id": "40f3d19c",
   "metadata": {},
   "outputs": [
    {
     "data": {
      "application/vnd.microsoft.datawrangler.viewer.v0+json": {
       "columns": [
        {
         "name": "index",
         "rawType": "object",
         "type": "string"
        },
        {
         "name": "Unnamed: 0",
         "rawType": "float64",
         "type": "float"
        },
        {
         "name": "BOROUGH",
         "rawType": "float64",
         "type": "float"
        },
        {
         "name": "BLOCK",
         "rawType": "float64",
         "type": "float"
        },
        {
         "name": "LOT",
         "rawType": "float64",
         "type": "float"
        },
        {
         "name": "ZIP CODE",
         "rawType": "float64",
         "type": "float"
        },
        {
         "name": "RESIDENTIAL UNITS",
         "rawType": "float64",
         "type": "float"
        },
        {
         "name": "COMMERCIAL UNITS",
         "rawType": "float64",
         "type": "float"
        },
        {
         "name": "TOTAL UNITS",
         "rawType": "float64",
         "type": "float"
        },
        {
         "name": "LAND SQUARE FEET",
         "rawType": "float64",
         "type": "float"
        },
        {
         "name": "GROSS SQUARE FEET",
         "rawType": "float64",
         "type": "float"
        },
        {
         "name": "YEAR BUILT",
         "rawType": "float64",
         "type": "float"
        },
        {
         "name": "TAX CLASS AT TIME OF SALE",
         "rawType": "float64",
         "type": "float"
        },
        {
         "name": "SALE PRICE",
         "rawType": "float64",
         "type": "float"
        },
        {
         "name": "LATITUDE",
         "rawType": "float64",
         "type": "float"
        },
        {
         "name": "LONGITUDE",
         "rawType": "float64",
         "type": "float"
        }
       ],
       "ref": "38f0045a-f982-4e5d-b4e9-7900a995cad8",
       "rows": [
        [
         "count",
         "29329.0",
         "29329.0",
         "29329.0",
         "29329.0",
         "29329.0",
         "29329.0",
         "29329.0",
         "29329.0",
         "29329.0",
         "29329.0",
         "29329.0",
         "29329.0",
         "29329.0",
         "29318.0",
         "29318.0"
        ],
        [
         "mean",
         "10247.506597565549",
         "3.534692625046882",
         "5550.014934024344",
         "61.45947696818848",
         "10993.453544273585",
         "3.0500187527702955",
         "0.3294009342289202",
         "3.378021753213543",
         "4328.39097821269",
         "4625.558662075079",
         "1940.0440178662757",
         "1.2323297759896348",
         "1639176.9073272187",
         "40.67248488471247",
         "-73.837625062419"
        ],
        [
         "std",
         "7698.255625461612",
         "1.019533549431146",
         "3779.5045901719755",
         "124.50778541206961",
         "521.6032391915288",
         "20.02188486763453",
         "14.017167910630405",
         "24.576276789305176",
         "39624.58443230694",
         "34170.48276043516",
         "47.06986244717148",
         "0.6926102641364281",
         "16995394.139384538",
         "1.0797532261789087",
         "4.0268940420147254"
        ],
        [
         "min",
         "4.0",
         "1.0",
         "5.0",
         "1.0",
         "0.0",
         "0.0",
         "0.0",
         "0.0",
         "200.0",
         "120.0",
         "0.0",
         "1.0",
         "1.0",
         "-42.75243",
         "-123.11581"
        ],
        [
         "25%",
         "3645.0",
         "3.0",
         "2681.0",
         "19.0",
         "10462.0",
         "1.0",
         "0.0",
         "1.0",
         "2000.0",
         "1361.0",
         "1920.0",
         "1.0",
         "420000.0",
         "40.6250625",
         "-73.98188"
        ],
        [
         "50%",
         "7470.0",
         "4.0",
         "4903.0",
         "38.0",
         "11221.0",
         "2.0",
         "0.0",
         "2.0",
         "2500.0",
         "1874.0",
         "1930.0",
         "1.0",
         "620000.0",
         "40.68367",
         "-73.9035"
        ],
        [
         "75%",
         "16816.0",
         "4.0",
         "7833.0",
         "64.0",
         "11373.0",
         "2.0",
         "0.0",
         "2.0",
         "4000.0",
         "2679.0",
         "1960.0",
         "1.0",
         "950000.0",
         "40.74493",
         "-73.8298675"
        ],
        [
         "max",
         "26702.0",
         "5.0",
         "16319.0",
         "7501.0",
         "11694.0",
         "1844.0",
         "2261.0",
         "2261.0",
         "4228300.0",
         "3750565.0",
         "2017.0",
         "4.0",
         "2210000000.0",
         "51.63387",
         "151.35029"
        ]
       ],
       "shape": {
        "columns": 15,
        "rows": 8
       }
      },
      "text/html": [
       "<div>\n",
       "<style scoped>\n",
       "    .dataframe tbody tr th:only-of-type {\n",
       "        vertical-align: middle;\n",
       "    }\n",
       "\n",
       "    .dataframe tbody tr th {\n",
       "        vertical-align: top;\n",
       "    }\n",
       "\n",
       "    .dataframe thead th {\n",
       "        text-align: right;\n",
       "    }\n",
       "</style>\n",
       "<table border=\"1\" class=\"dataframe\">\n",
       "  <thead>\n",
       "    <tr style=\"text-align: right;\">\n",
       "      <th></th>\n",
       "      <th>Unnamed: 0</th>\n",
       "      <th>BOROUGH</th>\n",
       "      <th>BLOCK</th>\n",
       "      <th>LOT</th>\n",
       "      <th>ZIP CODE</th>\n",
       "      <th>RESIDENTIAL UNITS</th>\n",
       "      <th>COMMERCIAL UNITS</th>\n",
       "      <th>TOTAL UNITS</th>\n",
       "      <th>LAND SQUARE FEET</th>\n",
       "      <th>GROSS SQUARE FEET</th>\n",
       "      <th>YEAR BUILT</th>\n",
       "      <th>TAX CLASS AT TIME OF SALE</th>\n",
       "      <th>SALE PRICE</th>\n",
       "      <th>LATITUDE</th>\n",
       "      <th>LONGITUDE</th>\n",
       "    </tr>\n",
       "  </thead>\n",
       "  <tbody>\n",
       "    <tr>\n",
       "      <th>count</th>\n",
       "      <td>29329.000000</td>\n",
       "      <td>29329.000000</td>\n",
       "      <td>29329.000000</td>\n",
       "      <td>29329.000000</td>\n",
       "      <td>29329.000000</td>\n",
       "      <td>29329.000000</td>\n",
       "      <td>29329.000000</td>\n",
       "      <td>29329.000000</td>\n",
       "      <td>2.932900e+04</td>\n",
       "      <td>2.932900e+04</td>\n",
       "      <td>29329.000000</td>\n",
       "      <td>29329.00000</td>\n",
       "      <td>2.932900e+04</td>\n",
       "      <td>29318.000000</td>\n",
       "      <td>29318.000000</td>\n",
       "    </tr>\n",
       "    <tr>\n",
       "      <th>mean</th>\n",
       "      <td>10247.506598</td>\n",
       "      <td>3.534693</td>\n",
       "      <td>5550.014934</td>\n",
       "      <td>61.459477</td>\n",
       "      <td>10993.453544</td>\n",
       "      <td>3.050019</td>\n",
       "      <td>0.329401</td>\n",
       "      <td>3.378022</td>\n",
       "      <td>4.328391e+03</td>\n",
       "      <td>4.625559e+03</td>\n",
       "      <td>1940.044018</td>\n",
       "      <td>1.23233</td>\n",
       "      <td>1.639177e+06</td>\n",
       "      <td>40.672485</td>\n",
       "      <td>-73.837625</td>\n",
       "    </tr>\n",
       "    <tr>\n",
       "      <th>std</th>\n",
       "      <td>7698.255625</td>\n",
       "      <td>1.019534</td>\n",
       "      <td>3779.504590</td>\n",
       "      <td>124.507785</td>\n",
       "      <td>521.603239</td>\n",
       "      <td>20.021885</td>\n",
       "      <td>14.017168</td>\n",
       "      <td>24.576277</td>\n",
       "      <td>3.962458e+04</td>\n",
       "      <td>3.417048e+04</td>\n",
       "      <td>47.069862</td>\n",
       "      <td>0.69261</td>\n",
       "      <td>1.699539e+07</td>\n",
       "      <td>1.079753</td>\n",
       "      <td>4.026894</td>\n",
       "    </tr>\n",
       "    <tr>\n",
       "      <th>min</th>\n",
       "      <td>4.000000</td>\n",
       "      <td>1.000000</td>\n",
       "      <td>5.000000</td>\n",
       "      <td>1.000000</td>\n",
       "      <td>0.000000</td>\n",
       "      <td>0.000000</td>\n",
       "      <td>0.000000</td>\n",
       "      <td>0.000000</td>\n",
       "      <td>2.000000e+02</td>\n",
       "      <td>1.200000e+02</td>\n",
       "      <td>0.000000</td>\n",
       "      <td>1.00000</td>\n",
       "      <td>1.000000e+00</td>\n",
       "      <td>-42.752430</td>\n",
       "      <td>-123.115810</td>\n",
       "    </tr>\n",
       "    <tr>\n",
       "      <th>25%</th>\n",
       "      <td>3645.000000</td>\n",
       "      <td>3.000000</td>\n",
       "      <td>2681.000000</td>\n",
       "      <td>19.000000</td>\n",
       "      <td>10462.000000</td>\n",
       "      <td>1.000000</td>\n",
       "      <td>0.000000</td>\n",
       "      <td>1.000000</td>\n",
       "      <td>2.000000e+03</td>\n",
       "      <td>1.361000e+03</td>\n",
       "      <td>1920.000000</td>\n",
       "      <td>1.00000</td>\n",
       "      <td>4.200000e+05</td>\n",
       "      <td>40.625062</td>\n",
       "      <td>-73.981880</td>\n",
       "    </tr>\n",
       "    <tr>\n",
       "      <th>50%</th>\n",
       "      <td>7470.000000</td>\n",
       "      <td>4.000000</td>\n",
       "      <td>4903.000000</td>\n",
       "      <td>38.000000</td>\n",
       "      <td>11221.000000</td>\n",
       "      <td>2.000000</td>\n",
       "      <td>0.000000</td>\n",
       "      <td>2.000000</td>\n",
       "      <td>2.500000e+03</td>\n",
       "      <td>1.874000e+03</td>\n",
       "      <td>1930.000000</td>\n",
       "      <td>1.00000</td>\n",
       "      <td>6.200000e+05</td>\n",
       "      <td>40.683670</td>\n",
       "      <td>-73.903500</td>\n",
       "    </tr>\n",
       "    <tr>\n",
       "      <th>75%</th>\n",
       "      <td>16816.000000</td>\n",
       "      <td>4.000000</td>\n",
       "      <td>7833.000000</td>\n",
       "      <td>64.000000</td>\n",
       "      <td>11373.000000</td>\n",
       "      <td>2.000000</td>\n",
       "      <td>0.000000</td>\n",
       "      <td>2.000000</td>\n",
       "      <td>4.000000e+03</td>\n",
       "      <td>2.679000e+03</td>\n",
       "      <td>1960.000000</td>\n",
       "      <td>1.00000</td>\n",
       "      <td>9.500000e+05</td>\n",
       "      <td>40.744930</td>\n",
       "      <td>-73.829868</td>\n",
       "    </tr>\n",
       "    <tr>\n",
       "      <th>max</th>\n",
       "      <td>26702.000000</td>\n",
       "      <td>5.000000</td>\n",
       "      <td>16319.000000</td>\n",
       "      <td>7501.000000</td>\n",
       "      <td>11694.000000</td>\n",
       "      <td>1844.000000</td>\n",
       "      <td>2261.000000</td>\n",
       "      <td>2261.000000</td>\n",
       "      <td>4.228300e+06</td>\n",
       "      <td>3.750565e+06</td>\n",
       "      <td>2017.000000</td>\n",
       "      <td>4.00000</td>\n",
       "      <td>2.210000e+09</td>\n",
       "      <td>51.633870</td>\n",
       "      <td>151.350290</td>\n",
       "    </tr>\n",
       "  </tbody>\n",
       "</table>\n",
       "</div>"
      ],
      "text/plain": [
       "         Unnamed: 0       BOROUGH         BLOCK           LOT      ZIP CODE  \\\n",
       "count  29329.000000  29329.000000  29329.000000  29329.000000  29329.000000   \n",
       "mean   10247.506598      3.534693   5550.014934     61.459477  10993.453544   \n",
       "std     7698.255625      1.019534   3779.504590    124.507785    521.603239   \n",
       "min        4.000000      1.000000      5.000000      1.000000      0.000000   \n",
       "25%     3645.000000      3.000000   2681.000000     19.000000  10462.000000   \n",
       "50%     7470.000000      4.000000   4903.000000     38.000000  11221.000000   \n",
       "75%    16816.000000      4.000000   7833.000000     64.000000  11373.000000   \n",
       "max    26702.000000      5.000000  16319.000000   7501.000000  11694.000000   \n",
       "\n",
       "       RESIDENTIAL UNITS  COMMERCIAL UNITS   TOTAL UNITS  LAND SQUARE FEET  \\\n",
       "count       29329.000000      29329.000000  29329.000000      2.932900e+04   \n",
       "mean            3.050019          0.329401      3.378022      4.328391e+03   \n",
       "std            20.021885         14.017168     24.576277      3.962458e+04   \n",
       "min             0.000000          0.000000      0.000000      2.000000e+02   \n",
       "25%             1.000000          0.000000      1.000000      2.000000e+03   \n",
       "50%             2.000000          0.000000      2.000000      2.500000e+03   \n",
       "75%             2.000000          0.000000      2.000000      4.000000e+03   \n",
       "max          1844.000000       2261.000000   2261.000000      4.228300e+06   \n",
       "\n",
       "       GROSS SQUARE FEET    YEAR BUILT  TAX CLASS AT TIME OF SALE  \\\n",
       "count       2.932900e+04  29329.000000                29329.00000   \n",
       "mean        4.625559e+03   1940.044018                    1.23233   \n",
       "std         3.417048e+04     47.069862                    0.69261   \n",
       "min         1.200000e+02      0.000000                    1.00000   \n",
       "25%         1.361000e+03   1920.000000                    1.00000   \n",
       "50%         1.874000e+03   1930.000000                    1.00000   \n",
       "75%         2.679000e+03   1960.000000                    1.00000   \n",
       "max         3.750565e+06   2017.000000                    4.00000   \n",
       "\n",
       "         SALE PRICE      LATITUDE     LONGITUDE  \n",
       "count  2.932900e+04  29318.000000  29318.000000  \n",
       "mean   1.639177e+06     40.672485    -73.837625  \n",
       "std    1.699539e+07      1.079753      4.026894  \n",
       "min    1.000000e+00    -42.752430   -123.115810  \n",
       "25%    4.200000e+05     40.625062    -73.981880  \n",
       "50%    6.200000e+05     40.683670    -73.903500  \n",
       "75%    9.500000e+05     40.744930    -73.829868  \n",
       "max    2.210000e+09     51.633870    151.350290  "
      ]
     },
     "execution_count": 6,
     "metadata": {},
     "output_type": "execute_result"
    }
   ],
   "source": [
    "df_nyc.describe()"
   ]
  },
  {
   "cell_type": "code",
   "execution_count": 4,
   "id": "2316b2d3",
   "metadata": {},
   "outputs": [
    {
     "data": {
      "image/png": "[encoded data removed]",
      "text/plain": [
       "<Figure size 700x100 with 1 Axes>"
      ]
     },
     "metadata": {},
     "output_type": "display_data"
    },
    {
     "name": "stdout",
     "output_type": "stream",
     "text": [
      "['#f7fcf0', '#d9f0d4', '#b4e2ba', '#7bccc4', '#42a6cc', '#1474b2', '#084081']\n"
     ]
    }
   ],
   "source": [
    "import matplotlib.pyplot as plt\n",
    "from matplotlib import colormaps\n",
    "from matplotlib.colors import to_hex\n",
    "import numpy as np\n",
    "\n",
    "def get_hex_colors_from_cmap(cmap_name='GnBu', n_colors=7, plot=False):\n",
    "    cmap = colormaps.get_cmap(cmap_name).resampled(n_colors)\n",
    "    values = np.linspace(0, 1, n_colors)\n",
    "    colors = [cmap(v) for v in values]\n",
    "    hex_colors = [to_hex(c) for c in colors]\n",
    "\n",
    "    if plot:\n",
    "        fig, ax = plt.subplots(figsize=(n_colors, 1))\n",
    "        for i, color in enumerate(colors):\n",
    "            ax.add_patch(plt.Rectangle((i, 0), 1, 1, color=color))\n",
    "            # opcional: mostrar o código hex na cor\n",
    "            ax.text(i + 0.5, -0.2, hex_colors[i], ha='center', va='top', fontsize=8, rotation=45)\n",
    "\n",
    "        ax.set_xlim(0, n_colors)\n",
    "        ax.set_ylim(-0.3, 1)\n",
    "        ax.axis('off')\n",
    "        plt.title(f'{cmap_name} - {n_colors} cores', fontsize=10, pad=10)\n",
    "        plt.show()\n",
    "\n",
    "    return hex_colors\n",
    "\n",
    "# Exemplo de uso\n",
    "cmap_list = get_hex_colors_from_cmap(cmap_name='GnBu', n_colors=7, plot=True)\n",
    "print(cmap_list)\n"
   ]
  },
  {
   "cell_type": "code",
   "execution_count": null,
   "id": "1606bc0b",
   "metadata": {},
   "outputs": [],
   "source": [
    "# Mostrar as cores como blocos\n",
    "fig, ax = plt.subplots(figsize=(n_colors, 1))\n",
    "for i, color in enumerate(colors):\n",
    "    ax.add_patch(plt.Rectangle((i, 0), 1, 1, color=color))\n",
    "\n",
    "ax.set_xlim(0, n_colors)\n",
    "ax.set_ylim(0, 1)\n",
    "ax.axis('off')\n",
    "plt.title(f'{cmap_name} - {n_colors} cores', fontsize=10, pad=10)\n",
    "plt.show()\n",
    "Isso vai gerar um gráfico com n blocos coloridos, cada um representando uma cor do cmap. Ideal para visualizar as cores discretizadas.\n",
    "Se quiser salvar como imagem ou mudar o colormap, é só ajustar cmap_name e n_colors.\n",
    "\n",
    "Deseja também exibir os valores hexadecimais embaixo de cada bloco?\n",
    "\n",
    "\n",
    "\n",
    "\n",
    "\n",
    "\n",
    "\n",
    "\n",
    "\n",
    "Perguntar ao ChatGPT\n"
   ]
  },
  {
   "cell_type": "markdown",
   "id": "a1c711e5",
   "metadata": {},
   "source": []
  }
 ],
 "metadata": {
  "kernelspec": {
   "display_name": "Python 3",
   "language": "python",
   "name": "python3"
  },
  "language_info": {
   "codemirror_mode": {
    "name": "ipython",
    "version": 3
   },
   "file_extension": ".py",
   "mimetype": "text/x-python",
   "name": "python",
   "nbconvert_exporter": "python",
   "pygments_lexer": "ipython3",
   "version": "3.12.4"
  }
 },
 "nbformat": 4,
 "nbformat_minor": 5
}
